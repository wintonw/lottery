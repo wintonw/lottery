{
 "cells": [
  {
   "cell_type": "code",
   "execution_count": 1,
   "metadata": {},
   "outputs": [],
   "source": [
    "import requests\n",
    "import numpy as np\n",
    "from bs4 import BeautifulSoup\n",
    "import json"
   ]
  },
  {
   "cell_type": "code",
   "execution_count": 2,
   "metadata": {},
   "outputs": [],
   "source": [
    "mynums = [12,38,48,52,63]\n",
    "myredball = 10\n",
    "# get data\n",
    "# https://www.megamillions.com/cmspages/utilservice.asmx/GetLatestDrawData\n",
    "soup = BeautifulSoup(requests.get(\"https://www.megamillions.com/cmspages/utilservice.asmx/GetLatestDrawData\").content,\n",
    "                     \"html.parser\")\n",
    "recent = json.loads(soup.get_text())"
   ]
  },
  {
   "cell_type": "code",
   "execution_count": 3,
   "metadata": {},
   "outputs": [],
   "source": [
    "# load\n",
    "winningnums = []\n",
    "for i in range(1,6):\n",
    "    key = \"N%i\"%(i)\n",
    "    winningnums.append(recent[\"Drawing\"][key])\n",
    "megaball = recent[\"Drawing\"][\"MBall\"]\n",
    "date = recent[\"Drawing\"][\"PlayDate\"].split(\"T\")[0]"
   ]
  },
  {
   "cell_type": "code",
   "execution_count": 4,
   "metadata": {},
   "outputs": [
    {
     "data": {
      "text/plain": [
       "{'PlayDate': '2020-06-19T00:00:00',\n",
       " 'N1': 11,\n",
       " 'N2': 34,\n",
       " 'N3': 36,\n",
       " 'N4': 52,\n",
       " 'N5': 66,\n",
       " 'MBall': 7,\n",
       " 'Megaplier': 2,\n",
       " 'UpdatedBy': 'SERVICE',\n",
       " 'UpdatedTime': '2020-06-23T00:06:02',\n",
       " 'PlayDateTicks': 637281216000000000,\n",
       " 'IgnoreServiceUntil': '2018-12-31T14:02:03'}"
      ]
     },
     "execution_count": 4,
     "metadata": {},
     "output_type": "execute_result"
    }
   ],
   "source": [
    "recent[\"Drawing\"]"
   ]
  },
  {
   "cell_type": "code",
   "execution_count": 8,
   "metadata": {},
   "outputs": [],
   "source": [
    "# check\n",
    "matchingnum = sum(1 for i in (np.in1d(mynums, winningnums)) if i == True)\n",
    "matchingred = myredball == megaball"
   ]
  },
  {
   "cell_type": "code",
   "execution_count": 10,
   "metadata": {},
   "outputs": [],
   "source": [
    "body = \"\"\"MegaMillion\n",
    "Date %s\n",
    "Winning 5 numbers:\n",
    "%s\n",
    "MegaBall : %i\n",
    "My 5 numbers: \n",
    "%s\n",
    "My MegaBall: \n",
    "%i\n",
    "# of Matching numbers: \n",
    "%i\n",
    "Powerball Match: \n",
    "%s\n",
    "\"\"\"%(date, winningnums, megaball, mynums, myredball, matchingnum, matchingred)"
   ]
  },
  {
   "cell_type": "code",
   "execution_count": null,
   "metadata": {},
   "outputs": [],
   "source": []
  }
 ],
 "metadata": {
  "kernelspec": {
   "display_name": "Python 3",
   "language": "python",
   "name": "python3"
  },
  "language_info": {
   "codemirror_mode": {
    "name": "ipython",
    "version": 3
   },
   "file_extension": ".py",
   "mimetype": "text/x-python",
   "name": "python",
   "nbconvert_exporter": "python",
   "pygments_lexer": "ipython3",
   "version": "3.7.3"
  }
 },
 "nbformat": 4,
 "nbformat_minor": 2
}
