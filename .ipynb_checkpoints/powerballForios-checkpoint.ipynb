{
 "cells": [
  {
   "cell_type": "code",
   "execution_count": 1,
   "metadata": {},
   "outputs": [],
   "source": [
    "import requests\n",
    "import numpy as np\n",
    "from bs4 import BeautifulSoup\n",
    "import json"
   ]
  },
  {
   "cell_type": "code",
   "execution_count": 2,
   "metadata": {},
   "outputs": [],
   "source": [
    "# https://www.powerball.com/api/v1/numbers/powerball/recent?_format=json\n",
    "mynums = [12,38,48,52,63]\n",
    "myredball = 10"
   ]
  },
  {
   "cell_type": "code",
   "execution_count": 3,
   "metadata": {},
   "outputs": [
    {
     "data": {
      "text/plain": [
       "array([10, 31, 41, 63, 67])"
      ]
     },
     "execution_count": 3,
     "metadata": {},
     "output_type": "execute_result"
    }
   ],
   "source": [
    "recent = json.loads(requests.get(\"https://www.powerball.com/api/v1/numbers/powerball/recent?_format=json\").content)\n",
    "winningnums = np.fromstring(recent[0][\"field_winning_numbers\"],dtype=int,sep=\",\", count=5)"
   ]
  },
  {
   "cell_type": "code",
   "execution_count": 4,
   "metadata": {},
   "outputs": [],
   "source": [
    "powerball = np.asarray(recent[0][\"field_winning_numbers\"].split(',')[-1],dtype=int)"
   ]
  },
  {
   "cell_type": "code",
   "execution_count": 12,
   "metadata": {},
   "outputs": [
    {
     "data": {
      "text/plain": [
       "int"
      ]
     },
     "execution_count": 12,
     "metadata": {},
     "output_type": "execute_result"
    }
   ],
   "source": [
    "matchingnum = sum(1 for i in (np.in1d(mynums, winningnums)) if i == True)\n",
    "matchingred = myredball == powerball"
   ]
  },
  {
   "cell_type": "code",
   "execution_count": 6,
   "metadata": {},
   "outputs": [
    {
     "data": {
      "text/plain": [
       "'2020-06-20'"
      ]
     },
     "execution_count": 6,
     "metadata": {},
     "output_type": "execute_result"
    }
   ],
   "source": [
    "date = recent[0][\"field_draw_date\"]"
   ]
  },
  {
   "cell_type": "code",
   "execution_count": 14,
   "metadata": {},
   "outputs": [],
   "source": [
    "body = \"\"\"\n",
    "Date %s\n",
    "Winning 5 numbers:\n",
    "%s\n",
    "Powerball : %i\n",
    "My 5 numbers: \n",
    "%s\n",
    "My Powerball: \n",
    "%i\n",
    "# of Matching numbers: \n",
    "%i\n",
    "Powerball Match: \n",
    "%s\n",
    "\"\"\"%(date, winningnums, powerball, mynums, myredball, matchingnum, matchingred)"
   ]
  },
  {
   "cell_type": "code",
   "execution_count": 15,
   "metadata": {},
   "outputs": [
    {
     "data": {
      "text/plain": [
       "'\\nDate 2020-06-20\\nWinning 5 numbers:\\n[10 31 41 63 67]\\nPowerball : 5\\nMy 5 numbers: \\n[12, 38, 48, 52, 63]\\nMy Powerball: \\n10\\n# of Matching numbers: \\n1\\nPowerball Match: \\nFalse\\n'"
      ]
     },
     "execution_count": 15,
     "metadata": {},
     "output_type": "execute_result"
    }
   ],
   "source": [
    "body"
   ]
  },
  {
   "cell_type": "code",
   "execution_count": null,
   "metadata": {},
   "outputs": [],
   "source": []
  }
 ],
 "metadata": {
  "kernelspec": {
   "display_name": "Python 3",
   "language": "python",
   "name": "python3"
  },
  "language_info": {
   "codemirror_mode": {
    "name": "ipython",
    "version": 3
   },
   "file_extension": ".py",
   "mimetype": "text/x-python",
   "name": "python",
   "nbconvert_exporter": "python",
   "pygments_lexer": "ipython3",
   "version": "3.7.3"
  }
 },
 "nbformat": 4,
 "nbformat_minor": 2
}
