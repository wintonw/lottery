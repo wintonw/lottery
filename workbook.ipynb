{
 "cells": [
  {
   "cell_type": "code",
   "execution_count": 122,
   "metadata": {},
   "outputs": [],
   "source": [
    "import pandas as pd\n",
    "import numpy as np\n",
    "import smtplib\n",
    "from email.message import EmailMessage\n",
    "import smtplib\n",
    "import datetime\n",
    "import os\n",
    "import requests\n",
    "import csv"
   ]
  },
  {
   "cell_type": "code",
   "execution_count": 2,
   "metadata": {},
   "outputs": [],
   "source": [
    "mm = pd.read_csv('megaMillion.csv')\n",
    "pb = pd.read_csv('powerball.csv')"
   ]
  },
  {
   "cell_type": "code",
   "execution_count": 19,
   "metadata": {},
   "outputs": [
    {
     "data": {
      "text/plain": [
       "'21 23 33 35 42'"
      ]
     },
     "execution_count": 19,
     "metadata": {},
     "output_type": "execute_result"
    }
   ],
   "source": [
    "# 5 nums\n",
    "mm.iloc[-1,1]"
   ]
  },
  {
   "cell_type": "code",
   "execution_count": 20,
   "metadata": {},
   "outputs": [
    {
     "data": {
      "text/plain": [
       "6"
      ]
     },
     "execution_count": 20,
     "metadata": {},
     "output_type": "execute_result"
    }
   ],
   "source": [
    "# mega ball\n",
    "mm.iloc[-1,2]"
   ]
  },
  {
   "cell_type": "code",
   "execution_count": 27,
   "metadata": {},
   "outputs": [],
   "source": [
    "lastest = np.fromstring(mm.iloc[-1,1],dtype=int,sep=' ')\n",
    "lastest = [21, 23, 33, 35, 42]"
   ]
  },
  {
   "cell_type": "code",
   "execution_count": 28,
   "metadata": {},
   "outputs": [
    {
     "data": {
      "text/plain": [
       "array([ True,  True,  True,  True,  True])"
      ]
     },
     "execution_count": 28,
     "metadata": {},
     "output_type": "execute_result"
    }
   ],
   "source": [
    "mynums = np.array([21, 23, 33, 35, 42])\n",
    "np.in1d(mynums,lastest)"
   ]
  },
  {
   "cell_type": "code",
   "execution_count": 46,
   "metadata": {},
   "outputs": [
    {
     "name": "stdout",
     "output_type": "stream",
     "text": [
      "[[48 44 32 23 32]]\n"
     ]
    },
    {
     "data": {
      "text/plain": [
       "array([False,  True, False, False, False])"
      ]
     },
     "execution_count": 46,
     "metadata": {},
     "output_type": "execute_result"
    }
   ],
   "source": [
    "randomarr = np.random.randint(0,69,size=(1,5))\n",
    "print(randomarr)\n",
    "mynums = np.array([21, 23, 33, 35, 42])\n",
    "match = np.in1d(mynums,randomarr)\n",
    "match"
   ]
  },
  {
   "cell_type": "markdown",
   "metadata": {},
   "source": [
    "read\n",
    "check\n",
    "send"
   ]
  },
  {
   "cell_type": "code",
   "execution_count": 54,
   "metadata": {},
   "outputs": [
    {
     "data": {
      "text/plain": [
       "1"
      ]
     },
     "execution_count": 54,
     "metadata": {},
     "output_type": "execute_result"
    }
   ],
   "source": [
    "matchednum = sum(1 for i in match if i == True)\n",
    "matchednum"
   ]
  },
  {
   "cell_type": "markdown",
   "metadata": {},
   "source": [
    "## Clean"
   ]
  },
  {
   "cell_type": "code",
   "execution_count": 78,
   "metadata": {},
   "outputs": [],
   "source": [
    "# my nums \n",
    "myfivenums = [12,38,48,52,63]\n",
    "mymegaball = 10\n",
    "# Get the new csv\n",
    "mm = pd.read_csv('megaMillion.csv')\n",
    "\n",
    "# date\n",
    "date = mm.iloc[-1,0]\n",
    "# 5 nums\n",
    "fivenums = np.fromstring(mm.iloc[-1,1],dtype=int,sep=' ')\n",
    "# mega ball\n",
    "megaball = int(mm.iloc[-1,2])\n",
    "\n",
    "matchingnum = sum(1 for i in (np.in1d(myfivenums, fivenums)) if i == True)\n",
    "\n",
    "matchingmegaball = mymegaball == megaball"
   ]
  },
  {
   "cell_type": "code",
   "execution_count": 112,
   "metadata": {},
   "outputs": [
    {
     "data": {
      "text/plain": [
       "'20:42:44 06/17/20 '"
      ]
     },
     "execution_count": 112,
     "metadata": {},
     "output_type": "execute_result"
    }
   ],
   "source": [
    "datetime.datetime.now().strftime('%X %x %Z')"
   ]
  },
  {
   "cell_type": "markdown",
   "metadata": {},
   "source": [
    "## Message"
   ]
  },
  {
   "cell_type": "code",
   "execution_count": 115,
   "metadata": {},
   "outputs": [
    {
     "data": {
      "text/plain": [
       "'\\nMega Million\\nDraw Date: 06/16/2020 \\nFive Numbers: [21 23 33 35 42]\\nMy numbers:   [12, 38, 48, 52, 63]\\nMega Ball:    6\\nMy Mega Ball: 10\\nNumber of Matched Number: 0\\nMegal Ball Match: False \\nSent at 20:45:43 06/17/20 \\n'"
      ]
     },
     "execution_count": 115,
     "metadata": {},
     "output_type": "execute_result"
    }
   ],
   "source": [
    "time = datetime.datetime.now().strftime(\"%X %x %Z\")\n",
    "mainbody = '''\n",
    "Mega Million\n",
    "Draw Date: %s \n",
    "Five Numbers: %s\n",
    "My numbers:   %s\n",
    "Mega Ball:    %i\n",
    "My Mega Ball: %i\n",
    "Number of Matched Number: %i\n",
    "Megal Ball Match: %s \n",
    "Sent at %s\n",
    "'''%(date,fivenums,myfivenums,megaball,mymegaball,matchingnum,matchingmegaball,time,)\n",
    "\n",
    "mainbody"
   ]
  },
  {
   "cell_type": "markdown",
   "metadata": {},
   "source": [
    "## Send msg"
   ]
  },
  {
   "cell_type": "code",
   "execution_count": 114,
   "metadata": {},
   "outputs": [],
   "source": [
    "with smtplib.SMTP('smtp.gmail.com', 587) as smtp:\n",
    "    smtp.ehlo()\n",
    "    smtp.starttls()\n",
    "    smtp.ehlo()\n",
    "\n",
    "    smtp.login('huangying162000@gmail.com', 'yj20000716')\n",
    "    subject = 'Mega Millions %s'%(date)\n",
    "\n",
    "    body = mainbody\n",
    "    msg = f'subject:{subject} \\n\\n {body}'\n",
    "    smtp.sendmail('huangying162000@gmail.com',\n",
    "                  'yih322+test@lehigh.edu', msg)"
   ]
  },
  {
   "cell_type": "markdown",
   "metadata": {},
   "source": [
    "# Powerball"
   ]
  },
  {
   "cell_type": "code",
   "execution_count": 147,
   "metadata": {},
   "outputs": [],
   "source": [
    "powerballURL = ('https://data.ny.gov/api/views/d6yy-54nr/rows.csv')\n",
    "\n",
    "power = requests.get(powerballURL)\n",
    "\n",
    "with open('powerball.csv', 'w') as f:\n",
    "    writer = csv.writer(f)\n",
    "    for line in power.iter_lines():\n",
    "        writer.writerow(line.decode('utf-8').split(','))\n",
    "\n",
    "\n",
    "# Check numbers\n",
    "# my nums\n",
    "mynums = [12, 38, 48, 52, 63, 10]\n",
    "# Get the new csv\n",
    "pb = pd.read_csv('powerball.csv')\n",
    "# date\n",
    "date = pb.iloc[-1, 0]\n",
    "# 5 nums\n",
    "nums = np.fromstring(pb.iloc[-1, 1], dtype=int, sep=' ')\n",
    "# mega ball\n",
    "powerball = nums[-1]\n",
    "# check and count matching numbers\n",
    "matchingnum = sum(1 for i in (np.in1d(mynums, nums)) if i == True)\n",
    "matchingmegaball = nums[-1] == mynums[-1]\n",
    "\n",
    "# msg\n",
    "time = datetime.datetime.now().strftime(\"%X %x %Z\")\n",
    "mainbody = '''\n",
    "Powerball\n",
    "Draw Date: %s \n",
    "Winning Numbers: \\t%s\n",
    "My numbers: \\t%s\n",
    "Powerball Ball: \\t%i\n",
    "Number of Matched Number: %i\n",
    "Powerball Ball Match: %s \n",
    "Sent at %s\n",
    "''' % (date, nums, mynums, powerball, matchingnum, matchingmegaball, time)"
   ]
  },
  {
   "cell_type": "code",
   "execution_count": 148,
   "metadata": {},
   "outputs": [
    {
     "data": {
      "text/plain": [
       "'\\nPowerball\\nDraw Date: 06/13/2020 \\nWinning Numbers: \\t[ 2 12 32 50 65  5]\\nMy numbers: \\t[12, 38, 48, 52, 63, 10]\\nPowerball Ball: \\t5\\nNumber of Matched Number: 1\\nPowerball Ball Match: False \\nSent at 21:16:18 06/17/20 \\n'"
      ]
     },
     "execution_count": 148,
     "metadata": {},
     "output_type": "execute_result"
    }
   ],
   "source": [
    "mainbody"
   ]
  },
  {
   "cell_type": "code",
   "execution_count": 144,
   "metadata": {},
   "outputs": [
    {
     "data": {
      "text/plain": [
       "5"
      ]
     },
     "execution_count": 144,
     "metadata": {},
     "output_type": "execute_result"
    }
   ],
   "source": [
    "nums[-1]"
   ]
  },
  {
   "cell_type": "code",
   "execution_count": null,
   "metadata": {},
   "outputs": [],
   "source": []
  }
 ],
 "metadata": {
  "kernelspec": {
   "display_name": "Python 3",
   "language": "python",
   "name": "python3"
  },
  "language_info": {
   "codemirror_mode": {
    "name": "ipython",
    "version": 3
   },
   "file_extension": ".py",
   "mimetype": "text/x-python",
   "name": "python",
   "nbconvert_exporter": "python",
   "pygments_lexer": "ipython3",
   "version": "3.7.3"
  }
 },
 "nbformat": 4,
 "nbformat_minor": 4
}
