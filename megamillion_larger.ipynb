{
 "cells": [
  {
   "cell_type": "code",
   "execution_count": 1,
   "metadata": {},
   "outputs": [],
   "source": [
    "import pandas as pd\n",
    "import numpy as np\n",
    "import datetime\n",
    "import csv"
   ]
  },
  {
   "cell_type": "code",
   "execution_count": 2,
   "metadata": {},
   "outputs": [],
   "source": [
    "df = pd.read_csv('megaMillion.csv')"
   ]
  },
  {
   "cell_type": "code",
   "execution_count": 7,
   "metadata": {},
   "outputs": [
    {
     "data": {
      "text/plain": [
       "array([21, 23, 33, 35, 42])"
      ]
     },
     "execution_count": 7,
     "metadata": {},
     "output_type": "execute_result"
    }
   ],
   "source": [
    "# 1885 rows × 4 columns\n",
    "winningnum = np.fromstring(df.iloc[-1,1],dtype=int,sep=' ')"
   ]
  },
  {
   "cell_type": "code",
   "execution_count": 16,
   "metadata": {},
   "outputs": [
    {
     "data": {
      "text/plain": [
       "1885"
      ]
     },
     "execution_count": 16,
     "metadata": {},
     "output_type": "execute_result"
    }
   ],
   "source": [
    "df.shape[0]"
   ]
  },
  {
   "cell_type": "code",
   "execution_count": 120,
   "metadata": {},
   "outputs": [],
   "source": [
    "# winning nums to np\n",
    "winnumnp = np.zeros(shape=(1,5))\n",
    "for i in df.index: \n",
    "    # arr = np.fromstring(df.iloc[i,1],dtype=int,sep=' ')\n",
    "    # winnumnp = np.stack(winnumnp, np.fromstring(df.iloc[i,1],dtype=int,sep=' ').reshape(1,5))\n",
    "    winnumnp = np.vstack((winnumnp, np.fromstring(df.iloc[i,1],dtype=int,sep=' ').reshape(1,5)))"
   ]
  },
  {
   "cell_type": "code",
   "execution_count": 21,
   "metadata": {},
   "outputs": [
    {
     "data": {
      "text/plain": [
       "0       15 18 25 33 47\n",
       "1       04 28 39 41 44\n",
       "2       02 04 32 44 52\n",
       "3       06 21 22 29 32\n",
       "4       12 28 45 46 52\n",
       "             ...      \n",
       "1880    09 20 23 26 29\n",
       "1881    32 35 37 47 55\n",
       "1882    01 05 09 10 23\n",
       "1883    09 14 57 67 70\n",
       "1884    21 23 33 35 42\n",
       "Name: Winning Numbers, Length: 1885, dtype: object"
      ]
     },
     "execution_count": 21,
     "metadata": {},
     "output_type": "execute_result"
    }
   ],
   "source": [
    "df.iloc[:,1]"
   ]
  },
  {
   "cell_type": "code",
   "execution_count": 118,
   "metadata": {},
   "outputs": [
    {
     "data": {
      "text/plain": [
       "(1886, 5)"
      ]
     },
     "execution_count": 118,
     "metadata": {},
     "output_type": "execute_result"
    }
   ],
   "source": [
    "winnumnp.shape"
   ]
  },
  {
   "cell_type": "code",
   "execution_count": 121,
   "metadata": {},
   "outputs": [
    {
     "data": {
      "text/plain": [
       "array([[ 0.,  0.,  0.,  0.,  0.],\n",
       "       [15., 18., 25., 33., 47.],\n",
       "       [ 4., 28., 39., 41., 44.],\n",
       "       ...,\n",
       "       [ 1.,  5.,  9., 10., 23.],\n",
       "       [ 9., 14., 57., 67., 70.],\n",
       "       [21., 23., 33., 35., 42.]])"
      ]
     },
     "execution_count": 121,
     "metadata": {},
     "output_type": "execute_result"
    }
   ],
   "source": [
    "winnumnp"
   ]
  },
  {
   "cell_type": "code",
   "execution_count": 90,
   "metadata": {},
   "outputs": [
    {
     "data": {
      "text/html": [
       "<div>\n",
       "<style scoped>\n",
       "    .dataframe tbody tr th:only-of-type {\n",
       "        vertical-align: middle;\n",
       "    }\n",
       "\n",
       "    .dataframe tbody tr th {\n",
       "        vertical-align: top;\n",
       "    }\n",
       "\n",
       "    .dataframe thead th {\n",
       "        text-align: right;\n",
       "    }\n",
       "</style>\n",
       "<table border=\"1\" class=\"dataframe\">\n",
       "  <thead>\n",
       "    <tr style=\"text-align: right;\">\n",
       "      <th></th>\n",
       "      <th>Draw Date</th>\n",
       "      <th>Winning Numbers</th>\n",
       "      <th>Mega Ball</th>\n",
       "      <th>Multiplier</th>\n",
       "    </tr>\n",
       "  </thead>\n",
       "  <tbody>\n",
       "    <tr>\n",
       "      <th>0</th>\n",
       "      <td>05/17/2002</td>\n",
       "      <td>15 18 25 33 47</td>\n",
       "      <td>30</td>\n",
       "      <td>NaN</td>\n",
       "    </tr>\n",
       "    <tr>\n",
       "      <th>1</th>\n",
       "      <td>05/21/2002</td>\n",
       "      <td>04 28 39 41 44</td>\n",
       "      <td>9</td>\n",
       "      <td>NaN</td>\n",
       "    </tr>\n",
       "    <tr>\n",
       "      <th>2</th>\n",
       "      <td>05/24/2002</td>\n",
       "      <td>02 04 32 44 52</td>\n",
       "      <td>36</td>\n",
       "      <td>NaN</td>\n",
       "    </tr>\n",
       "    <tr>\n",
       "      <th>3</th>\n",
       "      <td>05/28/2002</td>\n",
       "      <td>06 21 22 29 32</td>\n",
       "      <td>24</td>\n",
       "      <td>NaN</td>\n",
       "    </tr>\n",
       "    <tr>\n",
       "      <th>4</th>\n",
       "      <td>05/31/2002</td>\n",
       "      <td>12 28 45 46 52</td>\n",
       "      <td>47</td>\n",
       "      <td>NaN</td>\n",
       "    </tr>\n",
       "    <tr>\n",
       "      <th>...</th>\n",
       "      <td>...</td>\n",
       "      <td>...</td>\n",
       "      <td>...</td>\n",
       "      <td>...</td>\n",
       "    </tr>\n",
       "    <tr>\n",
       "      <th>1880</th>\n",
       "      <td>06/02/2020</td>\n",
       "      <td>09 20 23 26 29</td>\n",
       "      <td>8</td>\n",
       "      <td>3.0</td>\n",
       "    </tr>\n",
       "    <tr>\n",
       "      <th>1881</th>\n",
       "      <td>06/05/2020</td>\n",
       "      <td>32 35 37 47 55</td>\n",
       "      <td>22</td>\n",
       "      <td>3.0</td>\n",
       "    </tr>\n",
       "    <tr>\n",
       "      <th>1882</th>\n",
       "      <td>06/09/2020</td>\n",
       "      <td>01 05 09 10 23</td>\n",
       "      <td>22</td>\n",
       "      <td>2.0</td>\n",
       "    </tr>\n",
       "    <tr>\n",
       "      <th>1883</th>\n",
       "      <td>06/12/2020</td>\n",
       "      <td>09 14 57 67 70</td>\n",
       "      <td>2</td>\n",
       "      <td>3.0</td>\n",
       "    </tr>\n",
       "    <tr>\n",
       "      <th>1884</th>\n",
       "      <td>06/16/2020</td>\n",
       "      <td>21 23 33 35 42</td>\n",
       "      <td>6</td>\n",
       "      <td>3.0</td>\n",
       "    </tr>\n",
       "  </tbody>\n",
       "</table>\n",
       "<p>1885 rows × 4 columns</p>\n",
       "</div>"
      ],
      "text/plain": [
       "       Draw Date Winning Numbers  Mega Ball  Multiplier\n",
       "0     05/17/2002  15 18 25 33 47         30         NaN\n",
       "1     05/21/2002  04 28 39 41 44          9         NaN\n",
       "2     05/24/2002  02 04 32 44 52         36         NaN\n",
       "3     05/28/2002  06 21 22 29 32         24         NaN\n",
       "4     05/31/2002  12 28 45 46 52         47         NaN\n",
       "...          ...             ...        ...         ...\n",
       "1880  06/02/2020  09 20 23 26 29          8         3.0\n",
       "1881  06/05/2020  32 35 37 47 55         22         3.0\n",
       "1882  06/09/2020  01 05 09 10 23         22         2.0\n",
       "1883  06/12/2020  09 14 57 67 70          2         3.0\n",
       "1884  06/16/2020  21 23 33 35 42          6         3.0\n",
       "\n",
       "[1885 rows x 4 columns]"
      ]
     },
     "execution_count": 90,
     "metadata": {},
     "output_type": "execute_result"
    }
   ],
   "source": [
    "df"
   ]
  },
  {
   "cell_type": "code",
   "execution_count": null,
   "metadata": {},
   "outputs": [],
   "source": []
  }
 ],
 "metadata": {
  "kernelspec": {
   "display_name": "Python 3",
   "language": "python",
   "name": "python3"
  },
  "language_info": {
   "codemirror_mode": {
    "name": "ipython",
    "version": 3
   },
   "file_extension": ".py",
   "mimetype": "text/x-python",
   "name": "python",
   "nbconvert_exporter": "python",
   "pygments_lexer": "ipython3",
   "version": "3.7.3"
  }
 },
 "nbformat": 4,
 "nbformat_minor": 2
}
